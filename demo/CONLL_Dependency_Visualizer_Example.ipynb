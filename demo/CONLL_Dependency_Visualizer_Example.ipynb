{
 "cells": [
  {
   "cell_type": "code",
   "execution_count": null,
   "id": "c0fd86c8",
   "metadata": {},
   "outputs": [],
   "source": [
    "from stanza.utils.visualization.conll_deprel_visualization import conll_to_visual\n",
    "\n",
    "# load necessary conllu files - expected to be in the demo directory along with the notebook\n",
    "en_file = \"en_test.conllu.txt\"\n",
    "\n",
    "# testing left to right languages\n",
    "conll_to_visual(en_file, \"en\", sent_count=2)\n",
    "conll_to_visual(en_file, \"en\", sent_count=10)\n",
    "#conll_to_visual(en_file, \"en\", display_all=True)\n"
   ]
  },
  {
   "cell_type": "code",
   "execution_count": null,
   "id": "fc4b3f9b",
   "metadata": {},
   "outputs": [],
   "source": [
    "from stanza.utils.visualization.conll_deprel_visualization import conll_to_visual\n",
    "\n",
    "jp_file = \"japanese_test.conllu.txt\"\n",
    "conll_to_visual(jp_file, \"ja\")\n"
   ]
  },
  {
   "cell_type": "code",
   "execution_count": null,
   "id": "6852b8e8",
   "metadata": {},
   "outputs": [],
   "source": [
    "from stanza.utils.visualization.conll_deprel_visualization import conll_to_visual\n",
    "\n",
    "# testing right to left languages\n",
    "ar_file = \"arabic_test.conllu.txt\"\n",
    "conll_to_visual(ar_file, \"ar\")"
   ]
  }
 ],
 "metadata": {
  "kernelspec": {
   "display_name": "Python 3 (ipykernel)",
   "language": "python",
   "name": "python3"
  },
  "language_info": {
   "codemirror_mode": {
    "name": "ipython",
    "version": 3
   },
   "file_extension": ".py",
   "mimetype": "text/x-python",
   "name": "python",
   "nbconvert_exporter": "python",
   "pygments_lexer": "ipython3",
   "version": "3.8.3"
  }
 },
 "nbformat": 4,
 "nbformat_minor": 5
}
