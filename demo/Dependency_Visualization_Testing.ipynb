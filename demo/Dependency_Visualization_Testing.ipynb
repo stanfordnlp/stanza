{
 "cells": [
  {
   "cell_type": "code",
   "execution_count": null,
   "id": "64b2a9e0",
   "metadata": {},
   "outputs": [],
   "source": [
    "from stanza.utils.visualization.dependency_visualization import visualize_strings\n",
    "\n",
    "ar_strings = ['برلين ترفض حصول شركة اميركية على رخصة تصنيع دبابة \"ليوبارد\" الالمانية', \"هل بإمكاني مساعدتك؟\", \n",
    "              \"أراك في مابعد\", \"لحظة من فضلك\"]\n",
    "# Testing with right to left language\n",
    "visualize_strings(ar_strings, \"ar\")"
   ]
  },
  {
   "cell_type": "code",
   "execution_count": null,
   "id": "35ef521b",
   "metadata": {},
   "outputs": [],
   "source": [
    "from stanza.utils.visualization.dependency_visualization import visualize_strings\n",
    "\n",
    "en_strings = [\"This is a sentence.\", \n",
    "              \"He is wearing a red shirt\",\n",
    "              \"Barack Obama was born in Hawaii. He was elected President of the United States in 2008.\"]\n",
    "# Testing with left to right languages\n",
    "visualize_strings(en_strings, \"en\")"
   ]
  },
  {
   "cell_type": "code",
   "execution_count": null,
   "id": "f3cf10ba",
   "metadata": {},
   "outputs": [],
   "source": [
    "from stanza.utils.visualization.dependency_visualization import visualize_strings\n",
    "\n",
    "zh_strings = [\"中国是一个很有意思的国家。\"]\n",
    "# Testing with right to left language\n",
    "visualize_strings(zh_strings, \"zh\")"
   ]
  },
  {
   "cell_type": "code",
   "execution_count": null,
   "id": "d2b9b574",
   "metadata": {},
   "outputs": [],
   "source": []
  }
 ],
 "metadata": {
  "kernelspec": {
   "display_name": "Python 3 (ipykernel)",
   "language": "python",
   "name": "python3"
  },
  "language_info": {
   "codemirror_mode": {
    "name": "ipython",
    "version": 3
   },
   "file_extension": ".py",
   "mimetype": "text/x-python",
   "name": "python",
   "nbconvert_exporter": "python",
   "pygments_lexer": "ipython3",
   "version": "3.8.3"
  }
 },
 "nbformat": 4,
 "nbformat_minor": 5
}
